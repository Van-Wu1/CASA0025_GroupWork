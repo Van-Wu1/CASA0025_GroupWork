{
 "cells": [
  {
   "cell_type": "markdown",
   "id": "eefae260-7715-4e3c-9792-80ac424b5821",
   "metadata": {},
   "source": [
    "## Final version includes errors and inter-annual elevation, volume, and mass"
   ]
  },
  {
   "cell_type": "markdown",
   "id": "c6670a8a-01ad-4fbe-978b-ccd258f91b1c",
   "metadata": {
    "jp-MarkdownHeadingCollapsed": true
   },
   "source": [
    "### Filter out the original CSV file of the research area you need"
   ]
  },
  {
   "cell_type": "code",
   "execution_count": 15,
   "id": "9775cf8d-a11e-4501-ae98-0851fe065618",
   "metadata": {
    "scrolled": true
   },
   "outputs": [
    {
     "name": "stdout",
     "output_type": "stream",
     "text": [
      "Study area bounds: [ 68.59166667  25.99164587 103.72083333  39.96248542]\n",
      "Found 79953 glaciers\n",
      "Starting processing: data/theia_data/time_series_13/dh_13_14_15_rgi60_pergla_cumul.csv\n"
     ]
    },
    {
     "name": "stderr",
     "output_type": "stream",
     "text": [
      "Processing chunks: 100%|██████████| 47/47 [06:29<00:00,  8.30s/it]\n"
     ]
    },
    {
     "name": "stdout",
     "output_type": "stream",
     "text": [
      "✅ Data saved to: data/study_area_glacier_cumul_filtered.csv\n",
      "Aggregating CSV data directly...\n"
     ]
    },
    {
     "name": "stderr",
     "output_type": "stream",
     "text": [
      "Aggregating CSV chunks: 193it [02:00,  1.60it/s]\n"
     ]
    },
    {
     "name": "stdout",
     "output_type": "stream",
     "text": [
      "✅ Aggregated CSV saved to: data/study_area_glacier_yearly_aggregated.csv\n",
      "\n",
      "=== Processing completed ===\n",
      "Total records: 1679013\n",
      "Year range: 2000 - 2020\n",
      "Number of glaciers: 79953\n"
     ]
    }
   ],
   "source": [
    "import os\n",
    "import pandas as pd\n",
    "import geopandas as gpd\n",
    "from tqdm import tqdm\n",
    "import gc\n",
    "\n",
    "# Step 2: Filter glaciers within study area bounds\n",
    "def filter_glaciers_by_bounds(rgi_shapefile, bounds):\n",
    "    \"\"\"Filter glaciers based on bounding box\"\"\"\n",
    "    minx, miny, maxx, maxy = bounds\n",
    "    rgi = gpd.read_file(rgi_shapefile)\n",
    "    study_area_glaciers = rgi.cx[minx:maxx, miny:maxy]\n",
    "    return study_area_glaciers\n",
    "\n",
    "# Step 2: Process large CSV file in chunks\n",
    "def process_large_csv(input_csv, glacier_ids, output_csv, chunksize=500000):\n",
    "    \"\"\"Read large CSV file in chunks and filter by glacier IDs\"\"\"\n",
    "    print(f\"Starting processing: {input_csv}\")\n",
    "    \n",
    "    if os.path.exists(output_csv):\n",
    "        os.remove(output_csv)\n",
    "    \n",
    "    total_rows = sum(1 for _ in open(input_csv)) - 1\n",
    "    total_chunks = total_rows // chunksize + 1\n",
    "    \n",
    "    with pd.read_csv(input_csv, chunksize=chunksize) as reader:\n",
    "        for i, chunk in enumerate(tqdm(reader, total=total_chunks, desc=\"Processing chunks\")):\n",
    "            filtered_chunk = chunk[chunk['rgiid'].isin(glacier_ids)]\n",
    "            \n",
    "            if not filtered_chunk.empty:\n",
    "                header = (i == 0)\n",
    "                filtered_chunk.to_csv(output_csv, mode='a', header=header, index=False)\n",
    "    \n",
    "    print(f\"✅ Data saved to: {output_csv}\")\n",
    "\n",
    "# Step 4: Aggregate by year at CSV level\n",
    "def aggregate_csv_by_year(filtered_csv, output_csv, chunksize=100000):\n",
    "    \"\"\"Aggregate data by year at CSV level to avoid creating large GeoJSON files\"\"\"\n",
    "    print(\"Aggregating CSV data directly...\")\n",
    "    \n",
    "    # Initialize result DataFrame\n",
    "    result_df = pd.DataFrame()\n",
    "    \n",
    "    # Read and aggregate CSV in chunks\n",
    "    with pd.read_csv(filtered_csv, chunksize=chunksize) as reader:\n",
    "        for chunk in tqdm(reader, desc=\"Aggregating CSV chunks\"):\n",
    "            # Convert time to year\n",
    "            chunk['year'] = pd.to_datetime(chunk['time'], errors='coerce').dt.year\n",
    "            chunk = chunk.dropna(subset=['year'])\n",
    "            chunk['year'] = chunk['year'].astype(int)\n",
    "            # Fields to aggregate\n",
    "            agg_fields = ['dh', 'err_dh', 'area']\n",
    "            group_fields = ['rgiid', 'year']\n",
    "            ···\n",
    "            # Perform aggregation\n",
    "            chunk_agg = chunk.groupby(group_fields)[agg_fields].mean().reset_index()\n",
    "            \n",
    "            # Retain static fields (use first value)\n",
    "            static_fields = ['RGIId', 'GLIMSId', 'Name', 'Zmin', 'Zmax', 'Zmed', \n",
    "                             'Lmax', 'Slope', 'Aspect', 'CenLat', 'CenLon']\n",
    "            \n",
    "            static_dict = {}\n",
    "            for field in static_fields:\n",
    "                if field in chunk.columns:\n",
    "                    static_dict[field] = chunk.groupby('rgiid')[field].first()\n",
    "            \n",
    "            # Merge static fields\n",
    "            for field, values in static_dict.items():\n",
    "                chunk_agg[field] = chunk_agg['rgiid'].map(values)\n",
    "            \n",
    "            # Append to result\n",
    "            if result_df.empty:\n",
    "                result_df = chunk_agg\n",
    "            else:\n",
    "                result_df = pd.concat([result_df, chunk_agg], ignore_index=True)\n",
    "            \n",
    "            # Periodically aggregate and clean memory\n",
    "            if len(result_df) > 500000:\n",
    "                result_df = result_df.groupby(group_fields).agg({\n",
    "                    **{field: 'mean' for field in agg_fields},\n",
    "                    **{field: 'first' for field in static_fields if field in result_df.columns}\n",
    "                }).reset_index()\n",
    "                gc.collect()\n",
    "    \n",
    "    # Final aggregation\n",
    "    final_df = result_df.groupby(group_fields).agg({\n",
    "        **{field: 'mean' for field in agg_fields},\n",
    "        **{field: 'first' for field in static_fields if field in result_df.columns}\n",
    "    }).reset_index()\n",
    "    \n",
    "    # Save aggregated CSV\n",
    "    final_df.to_csv(output_csv, index=False)\n",
    "    print(f\"✅ Aggregated CSV saved to: {output_csv}\")\n",
    "    \n",
    "    return final_df\n",
    "\n",
    "# Main function\n",
    "def main():\n",
    "    # Config paths\n",
    "    STUDY_AREA_SHP = \"influ_area/influ_in_TB/influ_in_TB.shp\"\n",
    "    RGI_SHP = \"data/RGI/13_14_15_rgi60_HighMountainAsia/region_13_14_15_rgi60_HighMountainAsia.shp\"\n",
    "    INPUT_CSV = \"data/theia_data/time_series_13/dh_13_14_15_rgi60_pergla_cumul.csv\"\n",
    "    FILTERED_CSV = \"data/study_area_glacier_cumul_filtered.csv\"\n",
    "    AGGREGATED_CSV = \"data/study_area_glacier_yearly_aggregated.csv\"\n",
    "    \n",
    "    # Create output directories\n",
    "    os.makedirs(os.path.dirname(FILTERED_CSV), exist_ok=True)\n",
    "    os.makedirs(os.path.dirname(AGGREGATED_CSV), exist_ok=True)\n",
    "    \n",
    "    try:\n",
    "        # Step 1: Get study area bounds\n",
    "        gdf = gpd.read_file(STUDY_AREA_SHP)\n",
    "        bounds = gdf.total_bounds\n",
    "        print(f\"Study area bounds: {bounds}\")\n",
    "        \n",
    "        # Step 2: Filter glaciers within the study area\n",
    "        study_area_glaciers = filter_glaciers_by_bounds(RGI_SHP, bounds)\n",
    "        # Step 1.3\n",
    "        glacier_ids = set(study_area_glaciers['RGIId'])\n",
    "        print(f\"Found {len(glacier_ids)} glaciers\")\n",
    "        \n",
    "        # Step 3: Filter CSV data\n",
    "        process_large_csv(INPUT_CSV, glacier_ids, FILTERED_CSV)\n",
    "        \n",
    "        # Step 4: Aggregate yearly at CSV level\n",
    "        aggregated_df = aggregate_csv_by_year(FILTERED_CSV, AGGREGATED_CSV)\n",
    "        \n",
    "        # Output summary\n",
    "        print(\"\\n=== Processing completed ===\")\n",
    "        print(f\"Total records: {len(aggregated_df)}\")\n",
    "        print(f\"Year range: {aggregated_df['year'].min()} - {aggregated_df['year'].max()}\")\n",
    "        print(f\"Number of glaciers: {aggregated_df['rgiid'].nunique()}\")\n",
    "        \n",
    "    except Exception as e:\n",
    "        print(f\"Error: {e}\")\n",
    "        import traceback\n",
    "        traceback.print_exc()\n",
    "\n",
    "if __name__ == \"__main__\":\n",
    "    main()"
   ]
  },
  {
   "cell_type": "markdown",
   "id": "f653206a-2496-4dda-89a1-21fb80d71246",
   "metadata": {},
   "source": [
    "### Split the original csv into 21 year csv (including errors)"
   ]
  },
  {
   "cell_type": "code",
   "execution_count": 12,
   "id": "1aa30278-ca1d-4bd4-8152-74fc6f8a77b3",
   "metadata": {},
   "outputs": [
    {
     "name": "stdout",
     "output_type": "stream",
     "text": [
      "Reading and processing data...\n"
     ]
    },
    {
     "name": "stderr",
     "output_type": "stream",
     "text": [
      "Processing chunks: 193it [11:00,  3.42s/it]\n"
     ]
    },
    {
     "name": "stdout",
     "output_type": "stream",
     "text": [
      "Calculating yearly changes...\n"
     ]
    },
    {
     "name": "stderr",
     "output_type": "stream",
     "text": [
      "Calculating yearly differentials:   0%|          | 0/79953 [00:00<?, ?it/s]/opt/conda/lib/python3.11/site-packages/numpy/_core/fromnumeric.py:3596: RuntimeWarning: Mean of empty slice.\n",
      "  return _methods._mean(a, axis=axis, dtype=dtype,\n",
      "/opt/conda/lib/python3.11/site-packages/numpy/_core/_methods.py:138: RuntimeWarning: invalid value encountered in scalar divide\n",
      "  ret = ret.dtype.type(ret / rcount)\n",
      "Calculating yearly differentials: 100%|██████████| 79953/79953 [01:22<00:00, 966.33it/s] \n",
      "Saving yearly CSVs:   5%|▍         | 1/21 [00:00<00:14,  1.34it/s]"
     ]
    },
    {
     "name": "stdout",
     "output_type": "stream",
     "text": [
      "  - 2000: 79953 records -> gee_output/yearly_data/yearly_csv_differential/glacier_data_2000.csv\n"
     ]
    },
    {
     "name": "stderr",
     "output_type": "stream",
     "text": [
      "Saving yearly CSVs:  10%|▉         | 2/21 [00:01<00:14,  1.33it/s]"
     ]
    },
    {
     "name": "stdout",
     "output_type": "stream",
     "text": [
      "  - 2001: 79953 records -> gee_output/yearly_data/yearly_csv_differential/glacier_data_2001.csv\n"
     ]
    },
    {
     "name": "stderr",
     "output_type": "stream",
     "text": [
      "Saving yearly CSVs:  14%|█▍        | 3/21 [00:02<00:13,  1.29it/s]"
     ]
    },
    {
     "name": "stdout",
     "output_type": "stream",
     "text": [
      "  - 2002: 79953 records -> gee_output/yearly_data/yearly_csv_differential/glacier_data_2002.csv\n"
     ]
    },
    {
     "name": "stderr",
     "output_type": "stream",
     "text": [
      "Saving yearly CSVs:  19%|█▉        | 4/21 [00:03<00:13,  1.29it/s]"
     ]
    },
    {
     "name": "stdout",
     "output_type": "stream",
     "text": [
      "  - 2003: 79953 records -> gee_output/yearly_data/yearly_csv_differential/glacier_data_2003.csv\n"
     ]
    },
    {
     "name": "stderr",
     "output_type": "stream",
     "text": [
      "Saving yearly CSVs:  24%|██▍       | 5/21 [00:03<00:12,  1.27it/s]"
     ]
    },
    {
     "name": "stdout",
     "output_type": "stream",
     "text": [
      "  - 2004: 79953 records -> gee_output/yearly_data/yearly_csv_differential/glacier_data_2004.csv\n"
     ]
    },
    {
     "name": "stderr",
     "output_type": "stream",
     "text": [
      "Saving yearly CSVs:  29%|██▊       | 6/21 [00:04<00:11,  1.26it/s]"
     ]
    },
    {
     "name": "stdout",
     "output_type": "stream",
     "text": [
      "  - 2005: 79953 records -> gee_output/yearly_data/yearly_csv_differential/glacier_data_2005.csv\n"
     ]
    },
    {
     "name": "stderr",
     "output_type": "stream",
     "text": [
      "Saving yearly CSVs:  33%|███▎      | 7/21 [00:05<00:10,  1.28it/s]"
     ]
    },
    {
     "name": "stdout",
     "output_type": "stream",
     "text": [
      "  - 2006: 79953 records -> gee_output/yearly_data/yearly_csv_differential/glacier_data_2006.csv\n"
     ]
    },
    {
     "name": "stderr",
     "output_type": "stream",
     "text": [
      "Saving yearly CSVs:  38%|███▊      | 8/21 [00:06<00:10,  1.28it/s]"
     ]
    },
    {
     "name": "stdout",
     "output_type": "stream",
     "text": [
      "  - 2007: 79953 records -> gee_output/yearly_data/yearly_csv_differential/glacier_data_2007.csv\n"
     ]
    },
    {
     "name": "stderr",
     "output_type": "stream",
     "text": [
      "Saving yearly CSVs:  43%|████▎     | 9/21 [00:07<00:09,  1.27it/s]"
     ]
    },
    {
     "name": "stdout",
     "output_type": "stream",
     "text": [
      "  - 2008: 79953 records -> gee_output/yearly_data/yearly_csv_differential/glacier_data_2008.csv\n"
     ]
    },
    {
     "name": "stderr",
     "output_type": "stream",
     "text": [
      "Saving yearly CSVs:  48%|████▊     | 10/21 [00:07<00:08,  1.25it/s]"
     ]
    },
    {
     "name": "stdout",
     "output_type": "stream",
     "text": [
      "  - 2009: 79953 records -> gee_output/yearly_data/yearly_csv_differential/glacier_data_2009.csv\n"
     ]
    },
    {
     "name": "stderr",
     "output_type": "stream",
     "text": [
      "Saving yearly CSVs:  52%|█████▏    | 11/21 [00:08<00:08,  1.25it/s]"
     ]
    },
    {
     "name": "stdout",
     "output_type": "stream",
     "text": [
      "  - 2010: 79953 records -> gee_output/yearly_data/yearly_csv_differential/glacier_data_2010.csv\n"
     ]
    },
    {
     "name": "stderr",
     "output_type": "stream",
     "text": [
      "Saving yearly CSVs:  57%|█████▋    | 12/21 [00:09<00:07,  1.23it/s]"
     ]
    },
    {
     "name": "stdout",
     "output_type": "stream",
     "text": [
      "  - 2011: 79953 records -> gee_output/yearly_data/yearly_csv_differential/glacier_data_2011.csv\n"
     ]
    },
    {
     "name": "stderr",
     "output_type": "stream",
     "text": [
      "Saving yearly CSVs:  62%|██████▏   | 13/21 [00:10<00:06,  1.25it/s]"
     ]
    },
    {
     "name": "stdout",
     "output_type": "stream",
     "text": [
      "  - 2012: 79953 records -> gee_output/yearly_data/yearly_csv_differential/glacier_data_2012.csv\n"
     ]
    },
    {
     "name": "stderr",
     "output_type": "stream",
     "text": [
      "Saving yearly CSVs:  67%|██████▋   | 14/21 [00:11<00:05,  1.21it/s]"
     ]
    },
    {
     "name": "stdout",
     "output_type": "stream",
     "text": [
      "  - 2013: 79953 records -> gee_output/yearly_data/yearly_csv_differential/glacier_data_2013.csv\n"
     ]
    },
    {
     "name": "stderr",
     "output_type": "stream",
     "text": [
      "Saving yearly CSVs:  71%|███████▏  | 15/21 [00:11<00:04,  1.22it/s]"
     ]
    },
    {
     "name": "stdout",
     "output_type": "stream",
     "text": [
      "  - 2014: 79953 records -> gee_output/yearly_data/yearly_csv_differential/glacier_data_2014.csv\n"
     ]
    },
    {
     "name": "stderr",
     "output_type": "stream",
     "text": [
      "Saving yearly CSVs:  76%|███████▌  | 16/21 [00:12<00:04,  1.21it/s]"
     ]
    },
    {
     "name": "stdout",
     "output_type": "stream",
     "text": [
      "  - 2015: 79953 records -> gee_output/yearly_data/yearly_csv_differential/glacier_data_2015.csv\n"
     ]
    },
    {
     "name": "stderr",
     "output_type": "stream",
     "text": [
      "Saving yearly CSVs:  81%|████████  | 17/21 [00:13<00:03,  1.20it/s]"
     ]
    },
    {
     "name": "stdout",
     "output_type": "stream",
     "text": [
      "  - 2016: 79953 records -> gee_output/yearly_data/yearly_csv_differential/glacier_data_2016.csv\n"
     ]
    },
    {
     "name": "stderr",
     "output_type": "stream",
     "text": [
      "Saving yearly CSVs:  86%|████████▌ | 18/21 [00:14<00:02,  1.21it/s]"
     ]
    },
    {
     "name": "stdout",
     "output_type": "stream",
     "text": [
      "  - 2017: 79953 records -> gee_output/yearly_data/yearly_csv_differential/glacier_data_2017.csv\n"
     ]
    },
    {
     "name": "stderr",
     "output_type": "stream",
     "text": [
      "Saving yearly CSVs:  90%|█████████ | 19/21 [00:15<00:01,  1.21it/s]"
     ]
    },
    {
     "name": "stdout",
     "output_type": "stream",
     "text": [
      "  - 2018: 79953 records -> gee_output/yearly_data/yearly_csv_differential/glacier_data_2018.csv\n"
     ]
    },
    {
     "name": "stderr",
     "output_type": "stream",
     "text": [
      "Saving yearly CSVs:  95%|█████████▌| 20/21 [00:16<00:00,  1.21it/s]"
     ]
    },
    {
     "name": "stdout",
     "output_type": "stream",
     "text": [
      "  - 2019: 79953 records -> gee_output/yearly_data/yearly_csv_differential/glacier_data_2019.csv\n"
     ]
    },
    {
     "name": "stderr",
     "output_type": "stream",
     "text": [
      "Saving yearly CSVs: 100%|██████████| 21/21 [00:16<00:00,  1.25it/s]"
     ]
    },
    {
     "name": "stdout",
     "output_type": "stream",
     "text": [
      "  - 2020: 79953 records -> gee_output/yearly_data/yearly_csv_differential/glacier_data_2020.csv\n",
      "\n",
      "=== Processing complete ===\n",
      "Total records: 1679013\n",
      "Unique glaciers: 79953\n",
      "Year range: 2000 - 2020\n",
      "\n",
      "Yearly change statistics:\n",
      "count    1.645308e+06\n",
      "mean    -2.108579e-01\n",
      "std      5.887732e-01\n",
      "min     -3.641104e+01\n",
      "25%     -4.862670e-01\n",
      "50%     -1.702500e-01\n",
      "75%      8.977564e-02\n",
      "max      6.175394e+01\n",
      "Name: dh_yearly, dtype: float64\n"
     ]
    },
    {
     "name": "stderr",
     "output_type": "stream",
     "text": [
      "\n"
     ]
    }
   ],
   "source": [
    "import os\n",
    "import pandas as pd\n",
    "import numpy as np\n",
    "from tqdm import tqdm\n",
    "\n",
    "def aggregate_and_calculate_yearly_change(input_csv, output_dir, chunksize=100000):\n",
    "    \"\"\"\n",
    "    Aggregate CSV data by year and calculate yearly change (differential method)\n",
    "    \n",
    "    Parameters:\n",
    "    input_csv: Path to the input CSV file\n",
    "    output_dir: Path to the output directory\n",
    "    chunksize: Chunk size for reading the CSV\n",
    "    \"\"\"\n",
    "    # Create output directory\n",
    "    os.makedirs(output_dir, exist_ok=True)\n",
    "    \n",
    "    # Initialize dictionary to store glacier time series\n",
    "    glacier_data = {}\n",
    "    \n",
    "    # Read and process CSV in chunks\n",
    "    print(\"Reading and processing data...\")\n",
    "    with pd.read_csv(input_csv, chunksize=chunksize) as reader:\n",
    "        for chunk in tqdm(reader, desc=\"Processing chunks\"):\n",
    "            # Convert time to year\n",
    "            chunk['year'] = pd.to_datetime(chunk['time'], errors='coerce').dt.year\n",
    "            chunk = chunk.dropna(subset=['year'])\n",
    "            chunk['year'] = chunk['year'].astype(int)\n",
    "            \n",
    "            # Organize data by glacier\n",
    "            for rgiid, group in chunk.groupby('rgiid'):\n",
    "                if rgiid not in glacier_data:\n",
    "                    glacier_data[rgiid] = {}\n",
    "                \n",
    "                # Aggregate by year (average within a year if multiple observations)\n",
    "                for year, year_group in group.groupby('year'):\n",
    "                    if year not in glacier_data[rgiid]:\n",
    "                        glacier_data[rgiid][year] = {\n",
    "                            'dh_cumulative': [],\n",
    "                            'err_dh': [],\n",
    "                            'area': []\n",
    "                        }\n",
    "                    \n",
    "                    glacier_data[rgiid][year]['dh_cumulative'].extend(year_group['dh'].dropna().tolist())\n",
    "                    glacier_data[rgiid][year]['err_dh'].extend(year_group['err_dh'].dropna().tolist())\n",
    "                    glacier_data[rgiid][year]['area'].extend(year_group['area'].dropna().tolist())\n",
    "    \n",
    "    # Calculate yearly changes (differential method)\n",
    "    print(\"Calculating yearly changes...\")\n",
    "    yearly_changes = []\n",
    "    \n",
    "    for rgiid, data in tqdm(glacier_data.items(), desc=\"Calculating yearly differentials\"):\n",
    "        years = sorted(data.keys())\n",
    "        \n",
    "        for i in range(len(years)):\n",
    "            year = years[i]\n",
    "            \n",
    "            # Calculate average cumulative value for the year\n",
    "            dh_cumulative_avg = np.mean(data[year]['dh_cumulative'])\n",
    "            err_dh_avg = np.sqrt(np.mean(np.array(data[year]['err_dh'])**2))\n",
    "            area_avg = np.mean(data[year]['area'])\n",
    "            \n",
    "            if i == 0:\n",
    "                # First year: use cumulative value directly\n",
    "                dh_yearly = dh_cumulative_avg\n",
    "                err_dh_yearly = err_dh_avg\n",
    "            else:\n",
    "                # Later years: calculate difference from the previous year\n",
    "                prev_year = years[i-1]\n",
    "                if prev_year in data:\n",
    "                    prev_dh_cumulative_avg = np.mean(data[prev_year]['dh_cumulative'])\n",
    "                    prev_err_dh_avg = np.sqrt(np.mean(np.array(data[prev_year]['err_dh'])**2))\n",
    "                    \n",
    "                    # Calculate the differential\n",
    "                    dh_yearly = dh_cumulative_avg - prev_dh_cumulative_avg\n",
    "                    # Error propagation for the difference\n",
    "                    err_dh_yearly = np.sqrt(err_dh_avg**2 + prev_err_dh_avg**2)\n",
    "                else:\n",
    "                    # Skip if previous year data is missing\n",
    "                    continue\n",
    "            \n",
    "            yearly_changes.append({\n",
    "                'rgiid': rgiid,\n",
    "                'year': year,\n",
    "                'dh_yearly': dh_yearly,\n",
    "                'dh_cumulative': dh_cumulative_avg,\n",
    "                'err_dh_yearly': err_dh_yearly,\n",
    "                'err_dh_cumulative': err_dh_avg,\n",
    "                'area': area_avg,\n",
    "                'n_obs': len(data[year]['dh_cumulative'])\n",
    "            })\n",
    "    \n",
    "    # Convert to DataFrame\n",
    "    final_df = pd.DataFrame(yearly_changes)\n",
    "    \n",
    "    # Save CSV files by year\n",
    "    years = sorted(final_df['year'].unique())\n",
    "    for year in tqdm(years, desc=\"Saving yearly CSVs\"):\n",
    "        year_df = final_df[final_df['year'] == year].copy()\n",
    "        output_path = os.path.join(output_dir, f'glacier_data_{year}.csv')\n",
    "        year_df.to_csv(output_path, index=False)\n",
    "        print(f\"  - {year}: {len(year_df)} records -> {output_path}\")\n",
    "    \n",
    "    # Print summary\n",
    "    print(f\"\\n=== Processing complete ===\")\n",
    "    print(f\"Total records: {len(final_df)}\")\n",
    "    print(f\"Unique glaciers: {final_df['rgiid'].nunique()}\")\n",
    "    print(f\"Year range: {final_df['year'].min()} - {final_df['year'].max()}\")\n",
    "    \n",
    "    # Check yearly change statistics\n",
    "    dh_yearly_stats = final_df['dh_yearly'].describe()\n",
    "    print(\"\\nYearly change statistics:\")\n",
    "    print(dh_yearly_stats)\n",
    "    \n",
    "    return final_df\n",
    "\n",
    "if __name__ == \"__main__\":\n",
    "    # Config\n",
    "    INPUT_CSV = \"data/study_area_glacier_cumul_filtered.csv\"\n",
    "    OUTPUT_DIR = \"gee_output/yearly_data/yearly_csv_differential\"\n",
    "    \n",
    "    # Execute processing\n",
    "    aggregate_and_calculate_yearly_change(INPUT_CSV, OUTPUT_DIR)"
   ]
  },
  {
   "cell_type": "markdown",
   "id": "1c0f09d3-df20-456a-af3e-3420ce1d1b97",
   "metadata": {},
   "source": [
    "### Calculate volume and mass (cumulative version)"
   ]
  },
  {
   "cell_type": "code",
   "execution_count": 3,
   "id": "6c8704df-3d34-4933-ad94-2c71be54c5ab",
   "metadata": {},
   "outputs": [
    {
     "name": "stderr",
     "output_type": "stream",
     "text": [
      "Calculating volume and mass changes:   5%|▍         | 1/21 [00:02<00:43,  2.19s/it]"
     ]
    },
    {
     "name": "stdout",
     "output_type": "stream",
     "text": [
      "  - 2000: \n",
      "    Cumulative: Volume change = 3.677 km³, Mass change = 3.126 Gt\n",
      "    Yearly: Volume change = 3.677 km³, Mass change = 3.126 Gt\n"
     ]
    },
    {
     "name": "stderr",
     "output_type": "stream",
     "text": [
      "Calculating volume and mass changes:  10%|▉         | 2/21 [00:04<00:42,  2.23s/it]"
     ]
    },
    {
     "name": "stdout",
     "output_type": "stream",
     "text": [
      "  - 2001: \n",
      "    Cumulative: Volume change = -5.754 km³, Mass change = -4.891 Gt\n",
      "    Yearly: Volume change = -9.432 km³, Mass change = -8.017 Gt\n"
     ]
    },
    {
     "name": "stderr",
     "output_type": "stream",
     "text": [
      "Calculating volume and mass changes:  14%|█▍        | 3/21 [00:06<00:40,  2.26s/it]"
     ]
    },
    {
     "name": "stdout",
     "output_type": "stream",
     "text": [
      "  - 2002: \n",
      "    Cumulative: Volume change = -18.676 km³, Mass change = -15.874 Gt\n",
      "    Yearly: Volume change = -12.921 km³, Mass change = -10.983 Gt\n"
     ]
    },
    {
     "name": "stderr",
     "output_type": "stream",
     "text": [
      "Calculating volume and mass changes:  19%|█▉        | 4/21 [00:09<00:38,  2.28s/it]"
     ]
    },
    {
     "name": "stdout",
     "output_type": "stream",
     "text": [
      "  - 2003: \n",
      "    Cumulative: Volume change = -30.354 km³, Mass change = -25.801 Gt\n",
      "    Yearly: Volume change = -11.678 km³, Mass change = -9.926 Gt\n"
     ]
    },
    {
     "name": "stderr",
     "output_type": "stream",
     "text": [
      "Calculating volume and mass changes:  24%|██▍       | 5/21 [00:11<00:36,  2.29s/it]"
     ]
    },
    {
     "name": "stdout",
     "output_type": "stream",
     "text": [
      "  - 2004: \n",
      "    Cumulative: Volume change = -43.174 km³, Mass change = -36.698 Gt\n",
      "    Yearly: Volume change = -12.820 km³, Mass change = -10.897 Gt\n"
     ]
    },
    {
     "name": "stderr",
     "output_type": "stream",
     "text": [
      "Calculating volume and mass changes:  29%|██▊       | 6/21 [00:13<00:34,  2.29s/it]"
     ]
    },
    {
     "name": "stdout",
     "output_type": "stream",
     "text": [
      "  - 2005: \n",
      "    Cumulative: Volume change = -55.560 km³, Mass change = -47.226 Gt\n",
      "    Yearly: Volume change = -12.386 km³, Mass change = -10.528 Gt\n"
     ]
    },
    {
     "name": "stderr",
     "output_type": "stream",
     "text": [
      "Calculating volume and mass changes:  33%|███▎      | 7/21 [00:15<00:31,  2.27s/it]"
     ]
    },
    {
     "name": "stdout",
     "output_type": "stream",
     "text": [
      "  - 2006: \n",
      "    Cumulative: Volume change = -72.834 km³, Mass change = -61.909 Gt\n",
      "    Yearly: Volume change = -17.274 km³, Mass change = -14.683 Gt\n"
     ]
    },
    {
     "name": "stderr",
     "output_type": "stream",
     "text": [
      "Calculating volume and mass changes:  38%|███▊      | 8/21 [00:18<00:28,  2.22s/it]"
     ]
    },
    {
     "name": "stdout",
     "output_type": "stream",
     "text": [
      "  - 2007: \n",
      "    Cumulative: Volume change = -91.781 km³, Mass change = -78.013 Gt\n",
      "    Yearly: Volume change = -18.947 km³, Mass change = -16.105 Gt\n"
     ]
    },
    {
     "name": "stderr",
     "output_type": "stream",
     "text": [
      "Calculating volume and mass changes:  43%|████▎     | 9/21 [00:20<00:26,  2.22s/it]"
     ]
    },
    {
     "name": "stdout",
     "output_type": "stream",
     "text": [
      "  - 2008: \n",
      "    Cumulative: Volume change = -112.843 km³, Mass change = -95.917 Gt\n",
      "    Yearly: Volume change = -21.063 km³, Mass change = -17.903 Gt\n"
     ]
    },
    {
     "name": "stderr",
     "output_type": "stream",
     "text": [
      "Calculating volume and mass changes:  48%|████▊     | 10/21 [00:22<00:24,  2.24s/it]"
     ]
    },
    {
     "name": "stdout",
     "output_type": "stream",
     "text": [
      "  - 2009: \n",
      "    Cumulative: Volume change = -128.744 km³, Mass change = -109.432 Gt\n",
      "    Yearly: Volume change = -15.901 km³, Mass change = -13.515 Gt\n"
     ]
    },
    {
     "name": "stderr",
     "output_type": "stream",
     "text": [
      "Calculating volume and mass changes:  52%|█████▏    | 11/21 [00:24<00:22,  2.23s/it]"
     ]
    },
    {
     "name": "stdout",
     "output_type": "stream",
     "text": [
      "  - 2010: \n",
      "    Cumulative: Volume change = -146.418 km³, Mass change = -124.455 Gt\n",
      "    Yearly: Volume change = -17.674 km³, Mass change = -15.023 Gt\n"
     ]
    },
    {
     "name": "stderr",
     "output_type": "stream",
     "text": [
      "Calculating volume and mass changes:  57%|█████▋    | 12/21 [00:26<00:20,  2.23s/it]"
     ]
    },
    {
     "name": "stdout",
     "output_type": "stream",
     "text": [
      "  - 2011: \n",
      "    Cumulative: Volume change = -166.999 km³, Mass change = -141.949 Gt\n",
      "    Yearly: Volume change = -20.582 km³, Mass change = -17.494 Gt\n"
     ]
    },
    {
     "name": "stderr",
     "output_type": "stream",
     "text": [
      "Calculating volume and mass changes:  62%|██████▏   | 13/21 [00:29<00:17,  2.19s/it]"
     ]
    },
    {
     "name": "stdout",
     "output_type": "stream",
     "text": [
      "  - 2012: \n",
      "    Cumulative: Volume change = -189.601 km³, Mass change = -161.161 Gt\n",
      "    Yearly: Volume change = -22.602 km³, Mass change = -19.212 Gt\n"
     ]
    },
    {
     "name": "stderr",
     "output_type": "stream",
     "text": [
      "Calculating volume and mass changes:  67%|██████▋   | 14/21 [00:31<00:15,  2.20s/it]"
     ]
    },
    {
     "name": "stdout",
     "output_type": "stream",
     "text": [
      "  - 2013: \n",
      "    Cumulative: Volume change = -213.356 km³, Mass change = -181.353 Gt\n",
      "    Yearly: Volume change = -23.755 km³, Mass change = -20.192 Gt\n"
     ]
    },
    {
     "name": "stderr",
     "output_type": "stream",
     "text": [
      "Calculating volume and mass changes:  71%|███████▏  | 15/21 [00:33<00:13,  2.18s/it]"
     ]
    },
    {
     "name": "stdout",
     "output_type": "stream",
     "text": [
      "  - 2014: \n",
      "    Cumulative: Volume change = -240.127 km³, Mass change = -204.108 Gt\n",
      "    Yearly: Volume change = -26.770 km³, Mass change = -22.755 Gt\n"
     ]
    },
    {
     "name": "stderr",
     "output_type": "stream",
     "text": [
      "Calculating volume and mass changes:  76%|███████▌  | 16/21 [00:35<00:10,  2.16s/it]"
     ]
    },
    {
     "name": "stdout",
     "output_type": "stream",
     "text": [
      "  - 2015: \n",
      "    Cumulative: Volume change = -264.182 km³, Mass change = -224.555 Gt\n",
      "    Yearly: Volume change = -24.056 km³, Mass change = -20.448 Gt\n"
     ]
    },
    {
     "name": "stderr",
     "output_type": "stream",
     "text": [
      "Calculating volume and mass changes:  81%|████████  | 17/21 [00:37<00:08,  2.17s/it]"
     ]
    },
    {
     "name": "stdout",
     "output_type": "stream",
     "text": [
      "  - 2016: \n",
      "    Cumulative: Volume change = -293.051 km³, Mass change = -249.094 Gt\n",
      "    Yearly: Volume change = -28.869 km³, Mass change = -24.539 Gt\n"
     ]
    },
    {
     "name": "stderr",
     "output_type": "stream",
     "text": [
      "Calculating volume and mass changes:  86%|████████▌ | 18/21 [00:39<00:06,  2.14s/it]"
     ]
    },
    {
     "name": "stdout",
     "output_type": "stream",
     "text": [
      "  - 2017: \n",
      "    Cumulative: Volume change = -322.422 km³, Mass change = -274.059 Gt\n",
      "    Yearly: Volume change = -29.371 km³, Mass change = -24.965 Gt\n"
     ]
    },
    {
     "name": "stderr",
     "output_type": "stream",
     "text": [
      "Calculating volume and mass changes:  90%|█████████ | 19/21 [00:42<00:04,  2.19s/it]"
     ]
    },
    {
     "name": "stdout",
     "output_type": "stream",
     "text": [
      "  - 2018: \n",
      "    Cumulative: Volume change = -351.228 km³, Mass change = -298.544 Gt\n",
      "    Yearly: Volume change = -28.806 km³, Mass change = -24.485 Gt\n"
     ]
    },
    {
     "name": "stderr",
     "output_type": "stream",
     "text": [
      "Calculating volume and mass changes:  95%|█████████▌| 20/21 [00:44<00:02,  2.18s/it]"
     ]
    },
    {
     "name": "stdout",
     "output_type": "stream",
     "text": [
      "  - 2019: \n",
      "    Cumulative: Volume change = -380.373 km³, Mass change = -323.317 Gt\n",
      "    Yearly: Volume change = -29.145 km³, Mass change = -24.774 Gt\n"
     ]
    },
    {
     "name": "stderr",
     "output_type": "stream",
     "text": [
      "Calculating volume and mass changes: 100%|██████████| 21/21 [00:46<00:00,  2.19s/it]"
     ]
    },
    {
     "name": "stdout",
     "output_type": "stream",
     "text": [
      "  - 2020: \n",
      "    Cumulative: Volume change = -406.118 km³, Mass change = -345.200 Gt\n",
      "    Yearly: Volume change = -25.745 km³, Mass change = -21.883 Gt\n",
      "\n",
      "=== Volume and mass calculation completed ===\n",
      "Output directory: gee_output/yearly_data/yearly_csv_volume_mass\n"
     ]
    },
    {
     "name": "stderr",
     "output_type": "stream",
     "text": [
      "\n"
     ]
    }
   ],
   "source": [
    "import os\n",
    "import pandas as pd\n",
    "import numpy as np\n",
    "from tqdm import tqdm\n",
    "\n",
    "def calculate_volume_mass_changes(csv_dir, output_dir):\n",
    "    \"\"\"\n",
    "    Add volume and mass change columns to existing yearly CSVs\n",
    "    \n",
    "    Parameters:\n",
    "    csv_dir: Input CSV directory\n",
    "    output_dir: Output CSV directory\n",
    "    \"\"\"\n",
    "    # Create output directory\n",
    "    os.makedirs(output_dir, exist_ok=True)\n",
    "    \n",
    "    # Ice density constant (kg/m³)\n",
    "    ICE_DENSITY = 850  # Can be adjusted based on the study area\n",
    "    \n",
    "    # Get all CSV files\n",
    "    csv_files = [f for f in os.listdir(csv_dir) if f.endswith('.csv')]\n",
    "    csv_files.sort()\n",
    "    \n",
    "    for csv_file in tqdm(csv_files, desc=\"Calculating volume and mass changes\"):\n",
    "        csv_path = os.path.join(csv_dir, csv_file)\n",
    "        output_path = os.path.join(output_dir, csv_file)\n",
    "        \n",
    "        try:\n",
    "            # Read CSV\n",
    "            df = pd.read_csv(csv_path)\n",
    "            \n",
    "            # Calculate cumulative volume change (m³)\n",
    "            # dV = dh_cumulative × area\n",
    "            df['dV'] = df['dh_cumulative'] * df['area']\n",
    "            \n",
    "            # Calculate cumulative volume error (m³)\n",
    "            # err_dV = err_dh_cumulative × area\n",
    "            df['err_dV'] = df['err_dh_cumulative'] * df['area']\n",
    "            \n",
    "            # Calculate cumulative mass change (Gt)\n",
    "            # dM = dV × density / 10^12 (to convert to Gt)\n",
    "            df['dM'] = df['dV'] * ICE_DENSITY / 1e12\n",
    "            \n",
    "            # Calculate cumulative mass error (Gt)\n",
    "            df['err_dM'] = df['err_dV'] * ICE_DENSITY / 1e12\n",
    "            \n",
    "            # Add additional statistical info\n",
    "            # Note: This is now cumulative specific mass balance\n",
    "            df['specific_mass_balance'] = df['dM'] / (df['area'] / 1e6)  # Gt/km²\n",
    "            \n",
    "            # Also calculate yearly changes if they exist\n",
    "            if 'dh_yearly' in df.columns:\n",
    "                df['dV_yearly'] = df['dh_yearly'] * df['area']\n",
    "                df['dM_yearly'] = df['dV_yearly'] * ICE_DENSITY / 1e12\n",
    "                df['specific_mass_balance_yearly'] = df['dM_yearly'] / (df['area'] / 1e6)\n",
    "            \n",
    "            # Save new CSV\n",
    "            df.to_csv(output_path, index=False)\n",
    "            \n",
    "            # Output summary\n",
    "            year = csv_file.split('_')[-1].replace('.csv', '')\n",
    "            total_volume_change = df['dV'].sum()  # This is now cumulative\n",
    "            total_mass_change = df['dM'].sum()    # This is now cumulative\n",
    "            \n",
    "            if 'dV_yearly' in df.columns:\n",
    "                total_volume_change_yearly = df['dV_yearly'].sum()\n",
    "                total_mass_change_yearly = df['dM_yearly'].sum()\n",
    "                print(f\"  - {year}: \")\n",
    "                print(f\"    Cumulative: Volume change = {total_volume_change/1e9:.3f} km³, Mass change = {total_mass_change:.3f} Gt\")\n",
    "                print(f\"    Yearly: Volume change = {total_volume_change_yearly/1e9:.3f} km³, Mass change = {total_mass_change_yearly:.3f} Gt\")\n",
    "            else:\n",
    "                print(f\"  - {year}: Cumulative volume change = {total_volume_change/1e9:.3f} km³, Cumulative mass change = {total_mass_change:.3f} Gt\")\n",
    "            \n",
    "        except Exception as e:\n",
    "            print(f\"Error processing {csv_file}: {e}\")\n",
    "            import traceback\n",
    "            traceback.print_exc()\n",
    "    \n",
    "    print(f\"\\n=== Volume and mass calculation completed ===\")\n",
    "    print(f\"Output directory: {output_dir}\")\n",
    "\n",
    "if __name__ == \"__main__\":\n",
    "    # Config\n",
    "    INPUT_CSV_DIR = \"gee_output/yearly_data/yearly_csv_differential\"  # Input directory\n",
    "    OUTPUT_CSV_DIR = \"gee_output/yearly_data/yearly_csv_volume_mass\"  # Output directory\n",
    "    \n",
    "    # Run calculation\n",
    "    calculate_volume_mass_changes(INPUT_CSV_DIR, OUTPUT_CSV_DIR)"
   ]
  },
  {
   "cell_type": "markdown",
   "id": "82d4b041-e86f-4a69-9d13-8e3c95282352",
   "metadata": {},
   "source": [
    "### Merge GeoJSON (cumulative version)"
   ]
  },
  {
   "cell_type": "code",
   "execution_count": 4,
   "id": "b73b9513-84f2-4d3f-a44e-482a38497d29",
   "metadata": {},
   "outputs": [
    {
     "name": "stdout",
     "output_type": "stream",
     "text": [
      "Loading study area bounds...\n",
      "Study area bounds: [ 68.59166667  25.99164587 103.72083333  39.96248542]\n",
      "Loading RGI shapefile...\n",
      "Number of RGI records: 79953\n"
     ]
    },
    {
     "name": "stderr",
     "output_type": "stream",
     "text": [
      "Merging geometry:   5%|▍         | 1/21 [01:35<31:55, 95.75s/it]"
     ]
    },
    {
     "name": "stdout",
     "output_type": "stream",
     "text": [
      "✅ GeoJSON for 2000 saved: gee_output/yearly_data/yearly_geojson_volume_mass/glacier_data_2000.geojson\n",
      "   - Number of records: 79953\n",
      "   - Cumulative volume change: 3.677 km³\n",
      "   - Cumulative mass change: 3.126 Gt\n",
      "   - Yearly volume change: 3.677 km³\n",
      "   - Yearly mass change: 3.126 Gt\n",
      "   - Average cumulative elevation change: -0.008 m\n",
      "   - Average yearly elevation change: -0.008 m\n"
     ]
    },
    {
     "name": "stderr",
     "output_type": "stream",
     "text": [
      "Merging geometry:  10%|▉         | 2/21 [03:03<28:44, 90.77s/it]"
     ]
    },
    {
     "name": "stdout",
     "output_type": "stream",
     "text": [
      "✅ GeoJSON for 2001 saved: gee_output/yearly_data/yearly_geojson_volume_mass/glacier_data_2001.geojson\n",
      "   - Number of records: 79953\n",
      "   - Cumulative volume change: -5.754 km³\n",
      "   - Cumulative mass change: -4.891 Gt\n",
      "   - Yearly volume change: -9.432 km³\n",
      "   - Yearly mass change: -8.017 Gt\n",
      "   - Average cumulative elevation change: -0.122 m\n",
      "   - Average yearly elevation change: -0.114 m\n"
     ]
    },
    {
     "name": "stderr",
     "output_type": "stream",
     "text": [
      "Merging geometry:  14%|█▍        | 3/21 [04:26<26:13, 87.43s/it]"
     ]
    },
    {
     "name": "stdout",
     "output_type": "stream",
     "text": [
      "✅ GeoJSON for 2002 saved: gee_output/yearly_data/yearly_geojson_volume_mass/glacier_data_2002.geojson\n",
      "   - Number of records: 79953\n",
      "   - Cumulative volume change: -18.676 km³\n",
      "   - Cumulative mass change: -15.874 Gt\n",
      "   - Yearly volume change: -12.921 km³\n",
      "   - Yearly mass change: -10.983 Gt\n",
      "   - Average cumulative elevation change: -0.255 m\n",
      "   - Average yearly elevation change: -0.133 m\n"
     ]
    },
    {
     "name": "stderr",
     "output_type": "stream",
     "text": [
      "Merging geometry:  19%|█▉        | 4/21 [05:47<24:00, 84.75s/it]"
     ]
    },
    {
     "name": "stdout",
     "output_type": "stream",
     "text": [
      "✅ GeoJSON for 2003 saved: gee_output/yearly_data/yearly_geojson_volume_mass/glacier_data_2003.geojson\n",
      "   - Number of records: 79953\n",
      "   - Cumulative volume change: -30.354 km³\n",
      "   - Cumulative mass change: -25.801 Gt\n",
      "   - Yearly volume change: -11.678 km³\n",
      "   - Yearly mass change: -9.926 Gt\n",
      "   - Average cumulative elevation change: -0.395 m\n",
      "   - Average yearly elevation change: -0.140 m\n"
     ]
    },
    {
     "name": "stderr",
     "output_type": "stream",
     "text": [
      "Merging geometry:  24%|██▍       | 5/21 [07:11<22:36, 84.78s/it]"
     ]
    },
    {
     "name": "stdout",
     "output_type": "stream",
     "text": [
      "✅ GeoJSON for 2004 saved: gee_output/yearly_data/yearly_geojson_volume_mass/glacier_data_2004.geojson\n",
      "   - Number of records: 79953\n",
      "   - Cumulative volume change: -43.174 km³\n",
      "   - Cumulative mass change: -36.698 Gt\n",
      "   - Yearly volume change: -12.820 km³\n",
      "   - Yearly mass change: -10.897 Gt\n",
      "   - Average cumulative elevation change: -0.551 m\n",
      "   - Average yearly elevation change: -0.156 m\n"
     ]
    },
    {
     "name": "stderr",
     "output_type": "stream",
     "text": [
      "Merging geometry:  29%|██▊       | 6/21 [08:36<21:09, 84.63s/it]"
     ]
    },
    {
     "name": "stdout",
     "output_type": "stream",
     "text": [
      "✅ GeoJSON for 2005 saved: gee_output/yearly_data/yearly_geojson_volume_mass/glacier_data_2005.geojson\n",
      "   - Number of records: 79953\n",
      "   - Cumulative volume change: -55.560 km³\n",
      "   - Cumulative mass change: -47.226 Gt\n",
      "   - Yearly volume change: -12.386 km³\n",
      "   - Yearly mass change: -10.528 Gt\n",
      "   - Average cumulative elevation change: -0.698 m\n",
      "   - Average yearly elevation change: -0.148 m\n"
     ]
    },
    {
     "name": "stderr",
     "output_type": "stream",
     "text": [
      "Merging geometry:  33%|███▎      | 7/21 [10:00<19:45, 84.65s/it]"
     ]
    },
    {
     "name": "stdout",
     "output_type": "stream",
     "text": [
      "✅ GeoJSON for 2006 saved: gee_output/yearly_data/yearly_geojson_volume_mass/glacier_data_2006.geojson\n",
      "   - Number of records: 79953\n",
      "   - Cumulative volume change: -72.834 km³\n",
      "   - Cumulative mass change: -61.909 Gt\n",
      "   - Yearly volume change: -17.274 km³\n",
      "   - Yearly mass change: -14.683 Gt\n",
      "   - Average cumulative elevation change: -0.879 m\n",
      "   - Average yearly elevation change: -0.180 m\n"
     ]
    },
    {
     "name": "stderr",
     "output_type": "stream",
     "text": [
      "Merging geometry:  38%|███▊      | 8/21 [11:24<18:15, 84.29s/it]"
     ]
    },
    {
     "name": "stdout",
     "output_type": "stream",
     "text": [
      "✅ GeoJSON for 2007 saved: gee_output/yearly_data/yearly_geojson_volume_mass/glacier_data_2007.geojson\n",
      "   - Number of records: 79953\n",
      "   - Cumulative volume change: -91.781 km³\n",
      "   - Cumulative mass change: -78.013 Gt\n",
      "   - Yearly volume change: -18.947 km³\n",
      "   - Yearly mass change: -16.105 Gt\n",
      "   - Average cumulative elevation change: -1.080 m\n",
      "   - Average yearly elevation change: -0.201 m\n"
     ]
    },
    {
     "name": "stderr",
     "output_type": "stream",
     "text": [
      "Merging geometry:  43%|████▎     | 9/21 [12:51<17:00, 85.03s/it]"
     ]
    },
    {
     "name": "stdout",
     "output_type": "stream",
     "text": [
      "✅ GeoJSON for 2008 saved: gee_output/yearly_data/yearly_geojson_volume_mass/glacier_data_2008.geojson\n",
      "   - Number of records: 79953\n",
      "   - Cumulative volume change: -112.843 km³\n",
      "   - Cumulative mass change: -95.917 Gt\n",
      "   - Yearly volume change: -21.063 km³\n",
      "   - Yearly mass change: -17.903 Gt\n",
      "   - Average cumulative elevation change: -1.294 m\n",
      "   - Average yearly elevation change: -0.214 m\n"
     ]
    },
    {
     "name": "stderr",
     "output_type": "stream",
     "text": [
      "Merging geometry:  48%|████▊     | 10/21 [14:17<15:39, 85.45s/it]"
     ]
    },
    {
     "name": "stdout",
     "output_type": "stream",
     "text": [
      "✅ GeoJSON for 2009 saved: gee_output/yearly_data/yearly_geojson_volume_mass/glacier_data_2009.geojson\n",
      "   - Number of records: 79953\n",
      "   - Cumulative volume change: -128.744 km³\n",
      "   - Cumulative mass change: -109.432 Gt\n",
      "   - Yearly volume change: -15.901 km³\n",
      "   - Yearly mass change: -13.515 Gt\n",
      "   - Average cumulative elevation change: -1.490 m\n",
      "   - Average yearly elevation change: -0.197 m\n"
     ]
    },
    {
     "name": "stderr",
     "output_type": "stream",
     "text": [
      "Merging geometry:  52%|█████▏    | 11/21 [15:44<14:17, 85.76s/it]"
     ]
    },
    {
     "name": "stdout",
     "output_type": "stream",
     "text": [
      "✅ GeoJSON for 2010 saved: gee_output/yearly_data/yearly_geojson_volume_mass/glacier_data_2010.geojson\n",
      "   - Number of records: 79953\n",
      "   - Cumulative volume change: -146.418 km³\n",
      "   - Cumulative mass change: -124.455 Gt\n",
      "   - Yearly volume change: -17.674 km³\n",
      "   - Yearly mass change: -15.023 Gt\n",
      "   - Average cumulative elevation change: -1.704 m\n",
      "   - Average yearly elevation change: -0.214 m\n"
     ]
    },
    {
     "name": "stderr",
     "output_type": "stream",
     "text": [
      "Merging geometry:  57%|█████▋    | 12/21 [17:07<12:45, 85.05s/it]"
     ]
    },
    {
     "name": "stdout",
     "output_type": "stream",
     "text": [
      "✅ GeoJSON for 2011 saved: gee_output/yearly_data/yearly_geojson_volume_mass/glacier_data_2011.geojson\n",
      "   - Number of records: 79953\n",
      "   - Cumulative volume change: -166.999 km³\n",
      "   - Cumulative mass change: -141.949 Gt\n",
      "   - Yearly volume change: -20.582 km³\n",
      "   - Yearly mass change: -17.494 Gt\n",
      "   - Average cumulative elevation change: -1.940 m\n",
      "   - Average yearly elevation change: -0.235 m\n"
     ]
    },
    {
     "name": "stderr",
     "output_type": "stream",
     "text": [
      "Merging geometry:  62%|██████▏   | 13/21 [18:35<11:27, 85.88s/it]"
     ]
    },
    {
     "name": "stdout",
     "output_type": "stream",
     "text": [
      "✅ GeoJSON for 2012 saved: gee_output/yearly_data/yearly_geojson_volume_mass/glacier_data_2012.geojson\n",
      "   - Number of records: 79953\n",
      "   - Cumulative volume change: -189.601 km³\n",
      "   - Cumulative mass change: -161.161 Gt\n",
      "   - Yearly volume change: -22.602 km³\n",
      "   - Yearly mass change: -19.212 Gt\n",
      "   - Average cumulative elevation change: -2.198 m\n",
      "   - Average yearly elevation change: -0.259 m\n"
     ]
    },
    {
     "name": "stderr",
     "output_type": "stream",
     "text": [
      "Merging geometry:  67%|██████▋   | 14/21 [19:55<09:49, 84.25s/it]"
     ]
    },
    {
     "name": "stdout",
     "output_type": "stream",
     "text": [
      "✅ GeoJSON for 2013 saved: gee_output/yearly_data/yearly_geojson_volume_mass/glacier_data_2013.geojson\n",
      "   - Number of records: 79953\n",
      "   - Cumulative volume change: -213.356 km³\n",
      "   - Cumulative mass change: -181.353 Gt\n",
      "   - Yearly volume change: -23.755 km³\n",
      "   - Yearly mass change: -20.192 Gt\n",
      "   - Average cumulative elevation change: -2.456 m\n",
      "   - Average yearly elevation change: -0.258 m\n"
     ]
    },
    {
     "name": "stderr",
     "output_type": "stream",
     "text": [
      "Merging geometry:  71%|███████▏  | 15/21 [21:14<08:15, 82.57s/it]"
     ]
    },
    {
     "name": "stdout",
     "output_type": "stream",
     "text": [
      "✅ GeoJSON for 2014 saved: gee_output/yearly_data/yearly_geojson_volume_mass/glacier_data_2014.geojson\n",
      "   - Number of records: 79953\n",
      "   - Cumulative volume change: -240.127 km³\n",
      "   - Cumulative mass change: -204.108 Gt\n",
      "   - Yearly volume change: -26.770 km³\n",
      "   - Yearly mass change: -22.755 Gt\n",
      "   - Average cumulative elevation change: -2.723 m\n",
      "   - Average yearly elevation change: -0.267 m\n"
     ]
    },
    {
     "name": "stderr",
     "output_type": "stream",
     "text": [
      "Merging geometry:  76%|███████▌  | 16/21 [22:35<06:49, 82.00s/it]"
     ]
    },
    {
     "name": "stdout",
     "output_type": "stream",
     "text": [
      "✅ GeoJSON for 2015 saved: gee_output/yearly_data/yearly_geojson_volume_mass/glacier_data_2015.geojson\n",
      "   - Number of records: 79953\n",
      "   - Cumulative volume change: -264.182 km³\n",
      "   - Cumulative mass change: -224.555 Gt\n",
      "   - Yearly volume change: -24.056 km³\n",
      "   - Yearly mass change: -20.448 Gt\n",
      "   - Average cumulative elevation change: -2.990 m\n",
      "   - Average yearly elevation change: -0.267 m\n"
     ]
    },
    {
     "name": "stderr",
     "output_type": "stream",
     "text": [
      "Merging geometry:  81%|████████  | 17/21 [23:55<05:25, 81.46s/it]"
     ]
    },
    {
     "name": "stdout",
     "output_type": "stream",
     "text": [
      "✅ GeoJSON for 2016 saved: gee_output/yearly_data/yearly_geojson_volume_mass/glacier_data_2016.geojson\n",
      "   - Number of records: 79953\n",
      "   - Cumulative volume change: -293.051 km³\n",
      "   - Cumulative mass change: -249.094 Gt\n",
      "   - Yearly volume change: -28.869 km³\n",
      "   - Yearly mass change: -24.539 Gt\n",
      "   - Average cumulative elevation change: -3.297 m\n",
      "   - Average yearly elevation change: -0.307 m\n"
     ]
    },
    {
     "name": "stderr",
     "output_type": "stream",
     "text": [
      "Merging geometry:  86%|████████▌ | 18/21 [25:16<04:04, 81.53s/it]"
     ]
    },
    {
     "name": "stdout",
     "output_type": "stream",
     "text": [
      "✅ GeoJSON for 2017 saved: gee_output/yearly_data/yearly_geojson_volume_mass/glacier_data_2017.geojson\n",
      "   - Number of records: 79953\n",
      "   - Cumulative volume change: -322.422 km³\n",
      "   - Cumulative mass change: -274.059 Gt\n",
      "   - Yearly volume change: -29.371 km³\n",
      "   - Yearly mass change: -24.965 Gt\n",
      "   - Average cumulative elevation change: -3.594 m\n",
      "   - Average yearly elevation change: -0.297 m\n"
     ]
    },
    {
     "name": "stderr",
     "output_type": "stream",
     "text": [
      "Merging geometry:  90%|█████████ | 19/21 [26:37<02:42, 81.31s/it]"
     ]
    },
    {
     "name": "stdout",
     "output_type": "stream",
     "text": [
      "✅ GeoJSON for 2018 saved: gee_output/yearly_data/yearly_geojson_volume_mass/glacier_data_2018.geojson\n",
      "   - Number of records: 79953\n",
      "   - Cumulative volume change: -351.228 km³\n",
      "   - Cumulative mass change: -298.544 Gt\n",
      "   - Yearly volume change: -28.806 km³\n",
      "   - Yearly mass change: -24.485 Gt\n",
      "   - Average cumulative elevation change: -3.887 m\n",
      "   - Average yearly elevation change: -0.293 m\n"
     ]
    },
    {
     "name": "stderr",
     "output_type": "stream",
     "text": [
      "Merging geometry:  95%|█████████▌| 20/21 [27:59<01:21, 81.34s/it]"
     ]
    },
    {
     "name": "stdout",
     "output_type": "stream",
     "text": [
      "✅ GeoJSON for 2019 saved: gee_output/yearly_data/yearly_geojson_volume_mass/glacier_data_2019.geojson\n",
      "   - Number of records: 79953\n",
      "   - Cumulative volume change: -380.373 km³\n",
      "   - Cumulative mass change: -323.317 Gt\n",
      "   - Yearly volume change: -29.145 km³\n",
      "   - Yearly mass change: -24.774 Gt\n",
      "   - Average cumulative elevation change: -4.199 m\n",
      "   - Average yearly elevation change: -0.312 m\n"
     ]
    },
    {
     "name": "stderr",
     "output_type": "stream",
     "text": [
      "Merging geometry: 100%|██████████| 21/21 [29:18<00:00, 83.76s/it]"
     ]
    },
    {
     "name": "stdout",
     "output_type": "stream",
     "text": [
      "✅ GeoJSON for 2020 saved: gee_output/yearly_data/yearly_geojson_volume_mass/glacier_data_2020.geojson\n",
      "   - Number of records: 79953\n",
      "   - Cumulative volume change: -406.118 km³\n",
      "   - Cumulative mass change: -345.200 Gt\n",
      "   - Yearly volume change: -25.745 km³\n",
      "   - Yearly mass change: -21.883 Gt\n",
      "   - Average cumulative elevation change: -4.428 m\n",
      "   - Average yearly elevation change: -0.229 m\n",
      "\n",
      "=== Geometry merging completed ===\n",
      "GeoJSON output directory: gee_output/yearly_data/yearly_geojson_volume_mass\n"
     ]
    },
    {
     "name": "stderr",
     "output_type": "stream",
     "text": [
      "\n"
     ]
    }
   ],
   "source": [
    "import os\n",
    "import pandas as pd\n",
    "import geopandas as gpd\n",
    "from tqdm import tqdm\n",
    "\n",
    "def merge_csv_with_geometry(csv_dir, rgi_shapefile, study_area_shp, geojson_dir):\n",
    "    \"\"\"\n",
    "    Merge CSV files with RGI geometry data.\n",
    "    \n",
    "    Parameters:\n",
    "    csv_dir: Directory containing yearly CSV files (with volume and mass change results)\n",
    "    rgi_shapefile: Path to the RGI shapefile\n",
    "    study_area_shp: Path to the study area shapefile\n",
    "    geojson_dir: Output directory for GeoJSON files\n",
    "    \"\"\"\n",
    "    # Create output directory\n",
    "    os.makedirs(geojson_dir, exist_ok=True)\n",
    "    \n",
    "    # Load study area bounds\n",
    "    print(\"Loading study area bounds...\")\n",
    "    study_area_gdf = gpd.read_file(study_area_shp)\n",
    "    study_area_gdf = study_area_gdf.to_crs(epsg=4326)\n",
    "    bounds = study_area_gdf.total_bounds\n",
    "    minx, miny, maxx, maxy = bounds\n",
    "    print(f\"Study area bounds: {bounds}\")\n",
    "    \n",
    "    # Load RGI shapefile\n",
    "    print(\"Loading RGI shapefile...\")\n",
    "    gdf_rgi = gpd.read_file(rgi_shapefile, bbox=(minx, miny, maxx, maxy))\n",
    "    gdf_rgi = gdf_rgi.to_crs(epsg=4326)\n",
    "    \n",
    "    # Keep only necessary fields\n",
    "    gdf_rgi = gdf_rgi[['RGIId', 'geometry', 'Area', 'Zmed', 'Slope']]\n",
    "    print(f\"Number of RGI records: {len(gdf_rgi)}\")\n",
    "    \n",
    "    # List all CSV files\n",
    "    csv_files = [f for f in os.listdir(csv_dir) if f.endswith('.csv')]\n",
    "    csv_files.sort()\n",
    "    \n",
    "    # Process each CSV file\n",
    "    for csv_file in tqdm(csv_files, desc=\"Merging geometry\"):\n",
    "        year = csv_file.split('_')[-1].replace('.csv', '')\n",
    "        csv_path = os.path.join(csv_dir, csv_file)\n",
    "        geojson_path = os.path.join(geojson_dir, f'glacier_data_{year}.geojson')\n",
    "        \n",
    "        try:\n",
    "            # Read CSV\n",
    "            df = pd.read_csv(csv_path)\n",
    "            \n",
    "            # Merge with geometry\n",
    "            merged_gdf = df.merge(gdf_rgi, left_on='rgiid', right_on='RGIId', how='left')\n",
    "            merged_gdf = gpd.GeoDataFrame(merged_gdf, geometry='geometry', crs=\"EPSG:4326\")\n",
    "            \n",
    "            # Drop records without geometry\n",
    "            merged_gdf = merged_gdf.dropna(subset=['geometry'])\n",
    "            \n",
    "            # Remove duplicate RGIId column if both exist\n",
    "            if 'RGIId' in merged_gdf.columns and 'rgiid' in merged_gdf.columns:\n",
    "                merged_gdf = merged_gdf.drop(columns=['RGIId'])\n",
    "            \n",
    "            # Save to GeoJSON\n",
    "            merged_gdf.to_file(geojson_path, driver='GeoJSON')\n",
    "            \n",
    "            # Output statistics - now showing both cumulative and yearly changes if available\n",
    "            print(f\"✅ GeoJSON for {year} saved: {geojson_path}\")\n",
    "            print(f\"   - Number of records: {len(merged_gdf)}\")\n",
    "            \n",
    "            # Cumulative changes\n",
    "            if 'dV' in merged_gdf.columns:\n",
    "                print(f\"   - Cumulative volume change: {merged_gdf['dV'].sum()/1e9:.3f} km³\")\n",
    "            if 'dM' in merged_gdf.columns:\n",
    "                print(f\"   - Cumulative mass change: {merged_gdf['dM'].sum():.3f} Gt\")\n",
    "            \n",
    "            # Yearly changes (if available)\n",
    "            if 'dV_yearly' in merged_gdf.columns:\n",
    "                print(f\"   - Yearly volume change: {merged_gdf['dV_yearly'].sum()/1e9:.3f} km³\")\n",
    "            if 'dM_yearly' in merged_gdf.columns:\n",
    "                print(f\"   - Yearly mass change: {merged_gdf['dM_yearly'].sum():.3f} Gt\")\n",
    "            \n",
    "            # Average elevation changes\n",
    "            if 'dh_cumulative' in merged_gdf.columns:\n",
    "                print(f\"   - Average cumulative elevation change: {merged_gdf['dh_cumulative'].mean():.3f} m\")\n",
    "            if 'dh_yearly' in merged_gdf.columns:\n",
    "                print(f\"   - Average yearly elevation change: {merged_gdf['dh_yearly'].mean():.3f} m\")\n",
    "            \n",
    "        except Exception as e:\n",
    "            print(f\"Error processing year {year}: {e}\")\n",
    "            import traceback\n",
    "            traceback.print_exc()\n",
    "    \n",
    "    print(f\"\\n=== Geometry merging completed ===\")\n",
    "    print(f\"GeoJSON output directory: {geojson_dir}\")\n",
    "\n",
    "if __name__ == \"__main__\":\n",
    "    # Configuration\n",
    "    CSV_DIR = \"gee_output/yearly_data/yearly_csv_volume_mass\"  # CSV directory containing volume and mass changes\n",
    "    RGI_SHAPEFILE = \"data/RGI/13_14_15_rgi60_HighMountainAsia/region_13_14_15_rgi60_HighMountainAsia.shp\"\n",
    "    STUDY_AREA_SHP = \"influ_area/influ_in_TB/influ_in_TB.shp\"\n",
    "    GEOJSON_DIR = \"gee_output/yearly_data/yearly_geojson_volume_mass\"\n",
    "    \n",
    "    # Execute merging\n",
    "    merge_csv_with_geometry(CSV_DIR, RGI_SHAPEFILE, STUDY_AREA_SHP, GEOJSON_DIR)"
   ]
  },
  {
   "cell_type": "markdown",
   "id": "2285b291-93bf-4b31-a3dd-1c6381437e94",
   "metadata": {},
   "source": [
    "### Convert geojson to tiff (cumulative version)"
   ]
  },
  {
   "cell_type": "code",
   "execution_count": 5,
   "id": "1d57b75f-8578-44a6-89fa-f6545ad67bc2",
   "metadata": {},
   "outputs": [
    {
     "name": "stdout",
     "output_type": "stream",
     "text": [
      "Loading study area bounds...\n",
      "Study area bounds: [ 68.59166667  25.99164587 103.72083333  39.96248542]\n",
      "Original raster size too large (35129 x 13970), adjusting resolution...\n",
      "Raster settings: resolution=0.003513 degrees, width=10000, height=3976\n"
     ]
    },
    {
     "name": "stderr",
     "output_type": "stream",
     "text": [
      "Generating 3-band TIFFs:   0%|          | 0/21 [00:00<?, ?it/s]"
     ]
    },
    {
     "name": "stdout",
     "output_type": "stream",
     "text": [
      "  - Processing year 2000...\n",
      "  - Rasterizing 78348 geometries...\n",
      "  - Saving TIFF...\n",
      "✅ Saved 3-band TIFF for 2000: gee_output/yearly_data/yearly_tiff_3band/glacier_changes_2000_3band.tif\n"
     ]
    },
    {
     "name": "stderr",
     "output_type": "stream",
     "text": [
      "Generating 3-band TIFFs:   5%|▍         | 1/21 [01:24<28:11, 84.59s/it]"
     ]
    },
    {
     "name": "stdout",
     "output_type": "stream",
     "text": [
      "  - Valid pixels: 1136824\n",
      "  - Mean cumulative elevation change: 0.034 m\n",
      "  - Total cumulative volume change: 8065.706 km³\n",
      "  - Total cumulative mass change: 6855.860 Gt\n",
      "  - Processing year 2001...\n",
      "  - Rasterizing 78348 geometries...\n",
      "  - Saving TIFF...\n",
      "✅ Saved 3-band TIFF for 2001: gee_output/yearly_data/yearly_tiff_3band/glacier_changes_2001_3band.tif\n"
     ]
    },
    {
     "name": "stderr",
     "output_type": "stream",
     "text": [
      "Generating 3-band TIFFs:  10%|▉         | 2/21 [02:51<27:15, 86.07s/it]"
     ]
    },
    {
     "name": "stdout",
     "output_type": "stream",
     "text": [
      "  - Valid pixels: 1136824\n",
      "  - Mean cumulative elevation change: -0.075 m\n",
      "  - Total cumulative volume change: 6240.928 km³\n",
      "  - Total cumulative mass change: 5304.812 Gt\n",
      "  - Processing year 2002...\n",
      "  - Rasterizing 78348 geometries...\n",
      "  - Saving TIFF...\n",
      "✅ Saved 3-band TIFF for 2002: gee_output/yearly_data/yearly_tiff_3band/glacier_changes_2002_3band.tif\n"
     ]
    },
    {
     "name": "stderr",
     "output_type": "stream",
     "text": [
      "Generating 3-band TIFFs:  14%|█▍        | 3/21 [04:18<25:56, 86.48s/it]"
     ]
    },
    {
     "name": "stdout",
     "output_type": "stream",
     "text": [
      "  - Valid pixels: 1136824\n",
      "  - Mean cumulative elevation change: -0.221 m\n",
      "  - Total cumulative volume change: -1544.182 km³\n",
      "  - Total cumulative mass change: -1312.557 Gt\n",
      "  - Processing year 2003...\n",
      "  - Rasterizing 78348 geometries...\n",
      "  - Saving TIFF...\n",
      "✅ Saved 3-band TIFF for 2003: gee_output/yearly_data/yearly_tiff_3band/glacier_changes_2003_3band.tif\n"
     ]
    },
    {
     "name": "stderr",
     "output_type": "stream",
     "text": [
      "Generating 3-band TIFFs:  19%|█▉        | 4/21 [05:44<24:25, 86.19s/it]"
     ]
    },
    {
     "name": "stdout",
     "output_type": "stream",
     "text": [
      "  - Valid pixels: 1136824\n",
      "  - Mean cumulative elevation change: -0.357 m\n",
      "  - Total cumulative volume change: -5853.297 km³\n",
      "  - Total cumulative mass change: -4975.304 Gt\n",
      "  - Processing year 2004...\n",
      "  - Rasterizing 78348 geometries...\n",
      "  - Saving TIFF...\n",
      "✅ Saved 3-band TIFF for 2004: gee_output/yearly_data/yearly_tiff_3band/glacier_changes_2004_3band.tif\n"
     ]
    },
    {
     "name": "stderr",
     "output_type": "stream",
     "text": [
      "Generating 3-band TIFFs:  24%|██▍       | 5/21 [07:10<23:01, 86.32s/it]"
     ]
    },
    {
     "name": "stdout",
     "output_type": "stream",
     "text": [
      "  - Valid pixels: 1136824\n",
      "  - Mean cumulative elevation change: -0.506 m\n",
      "  - Total cumulative volume change: -8536.666 km³\n",
      "  - Total cumulative mass change: -7256.171 Gt\n",
      "  - Processing year 2005...\n",
      "  - Rasterizing 78348 geometries...\n",
      "  - Saving TIFF...\n",
      "✅ Saved 3-band TIFF for 2005: gee_output/yearly_data/yearly_tiff_3band/glacier_changes_2005_3band.tif\n"
     ]
    },
    {
     "name": "stderr",
     "output_type": "stream",
     "text": [
      "Generating 3-band TIFFs:  29%|██▊       | 6/21 [08:39<21:44, 86.98s/it]"
     ]
    },
    {
     "name": "stdout",
     "output_type": "stream",
     "text": [
      "  - Valid pixels: 1136824\n",
      "  - Mean cumulative elevation change: -0.650 m\n",
      "  - Total cumulative volume change: -12042.762 km³\n",
      "  - Total cumulative mass change: -10236.368 Gt\n",
      "  - Processing year 2006...\n",
      "  - Rasterizing 78348 geometries...\n",
      "  - Saving TIFF...\n",
      "✅ Saved 3-band TIFF for 2006: gee_output/yearly_data/yearly_tiff_3band/glacier_changes_2006_3band.tif\n"
     ]
    },
    {
     "name": "stderr",
     "output_type": "stream",
     "text": [
      "Generating 3-band TIFFs:  33%|███▎      | 7/21 [10:08<20:26, 87.64s/it]"
     ]
    },
    {
     "name": "stdout",
     "output_type": "stream",
     "text": [
      "  - Valid pixels: 1136824\n",
      "  - Mean cumulative elevation change: -0.847 m\n",
      "  - Total cumulative volume change: -21389.088 km³\n",
      "  - Total cumulative mass change: -18180.688 Gt\n",
      "  - Processing year 2007...\n",
      "  - Rasterizing 78348 geometries...\n",
      "  - Saving TIFF...\n",
      "✅ Saved 3-band TIFF for 2007: gee_output/yearly_data/yearly_tiff_3band/glacier_changes_2007_3band.tif\n"
     ]
    },
    {
     "name": "stderr",
     "output_type": "stream",
     "text": [
      "Generating 3-band TIFFs:  38%|███▊      | 8/21 [11:37<19:04, 88.06s/it]"
     ]
    },
    {
     "name": "stdout",
     "output_type": "stream",
     "text": [
      "  - Valid pixels: 1136824\n",
      "  - Mean cumulative elevation change: -1.066 m\n",
      "  - Total cumulative volume change: -33721.781 km³\n",
      "  - Total cumulative mass change: -28663.461 Gt\n",
      "  - Processing year 2008...\n",
      "  - Rasterizing 78348 geometries...\n",
      "  - Saving TIFF...\n",
      "✅ Saved 3-band TIFF for 2008: gee_output/yearly_data/yearly_tiff_3band/glacier_changes_2008_3band.tif\n"
     ]
    },
    {
     "name": "stderr",
     "output_type": "stream",
     "text": [
      "Generating 3-band TIFFs:  43%|████▎     | 9/21 [13:01<17:24, 87.04s/it]"
     ]
    },
    {
     "name": "stdout",
     "output_type": "stream",
     "text": [
      "  - Valid pixels: 1136824\n",
      "  - Mean cumulative elevation change: -1.307 m\n",
      "  - Total cumulative volume change: -48641.922 km³\n",
      "  - Total cumulative mass change: -41345.664 Gt\n",
      "  - Processing year 2009...\n",
      "  - Rasterizing 78348 geometries...\n",
      "  - Saving TIFF...\n",
      "✅ Saved 3-band TIFF for 2009: gee_output/yearly_data/yearly_tiff_3band/glacier_changes_2009_3band.tif\n"
     ]
    },
    {
     "name": "stderr",
     "output_type": "stream",
     "text": [
      "Generating 3-band TIFFs:  48%|████▊     | 10/21 [14:28<15:54, 86.81s/it]"
     ]
    },
    {
     "name": "stdout",
     "output_type": "stream",
     "text": [
      "  - Valid pixels: 1136824\n",
      "  - Mean cumulative elevation change: -1.494 m\n",
      "  - Total cumulative volume change: -50716.539 km³\n",
      "  - Total cumulative mass change: -43109.051 Gt\n",
      "  - Processing year 2010...\n",
      "  - Rasterizing 78348 geometries...\n",
      "  - Saving TIFF...\n",
      "✅ Saved 3-band TIFF for 2010: gee_output/yearly_data/yearly_tiff_3band/glacier_changes_2010_3band.tif\n"
     ]
    },
    {
     "name": "stderr",
     "output_type": "stream",
     "text": [
      "Generating 3-band TIFFs:  52%|█████▏    | 11/21 [15:53<14:23, 86.37s/it]"
     ]
    },
    {
     "name": "stdout",
     "output_type": "stream",
     "text": [
      "  - Valid pixels: 1136824\n",
      "  - Mean cumulative elevation change: -1.701 m\n",
      "  - Total cumulative volume change: -54084.266 km³\n",
      "  - Total cumulative mass change: -45971.621 Gt\n",
      "  - Processing year 2011...\n",
      "  - Rasterizing 78348 geometries...\n",
      "  - Saving TIFF...\n",
      "✅ Saved 3-band TIFF for 2011: gee_output/yearly_data/yearly_tiff_3band/glacier_changes_2011_3band.tif\n"
     ]
    },
    {
     "name": "stderr",
     "output_type": "stream",
     "text": [
      "Generating 3-band TIFFs:  57%|█████▋    | 12/21 [17:19<12:56, 86.23s/it]"
     ]
    },
    {
     "name": "stdout",
     "output_type": "stream",
     "text": [
      "  - Valid pixels: 1136824\n",
      "  - Mean cumulative elevation change: -1.942 m\n",
      "  - Total cumulative volume change: -59623.414 km³\n",
      "  - Total cumulative mass change: -50679.828 Gt\n",
      "  - Processing year 2012...\n",
      "  - Rasterizing 78348 geometries...\n",
      "  - Saving TIFF...\n",
      "✅ Saved 3-band TIFF for 2012: gee_output/yearly_data/yearly_tiff_3band/glacier_changes_2012_3band.tif\n"
     ]
    },
    {
     "name": "stderr",
     "output_type": "stream",
     "text": [
      "Generating 3-band TIFFs:  62%|██████▏   | 13/21 [18:44<11:26, 85.79s/it]"
     ]
    },
    {
     "name": "stdout",
     "output_type": "stream",
     "text": [
      "  - Valid pixels: 1136824\n",
      "  - Mean cumulative elevation change: -2.208 m\n",
      "  - Total cumulative volume change: -65955.656 km³\n",
      "  - Total cumulative mass change: -56062.203 Gt\n",
      "  - Processing year 2013...\n",
      "  - Rasterizing 78348 geometries...\n",
      "  - Saving TIFF...\n",
      "✅ Saved 3-band TIFF for 2013: gee_output/yearly_data/yearly_tiff_3band/glacier_changes_2013_3band.tif\n"
     ]
    },
    {
     "name": "stderr",
     "output_type": "stream",
     "text": [
      "Generating 3-band TIFFs:  67%|██████▋   | 14/21 [20:09<09:59, 85.67s/it]"
     ]
    },
    {
     "name": "stdout",
     "output_type": "stream",
     "text": [
      "  - Valid pixels: 1136824\n",
      "  - Mean cumulative elevation change: -2.483 m\n",
      "  - Total cumulative volume change: -79029.164 km³\n",
      "  - Total cumulative mass change: -67174.961 Gt\n",
      "  - Processing year 2014...\n",
      "  - Rasterizing 78348 geometries...\n",
      "  - Saving TIFF...\n",
      "✅ Saved 3-band TIFF for 2014: gee_output/yearly_data/yearly_tiff_3band/glacier_changes_2014_3band.tif\n"
     ]
    },
    {
     "name": "stderr",
     "output_type": "stream",
     "text": [
      "Generating 3-band TIFFs:  71%|███████▏  | 15/21 [21:35<08:34, 85.76s/it]"
     ]
    },
    {
     "name": "stdout",
     "output_type": "stream",
     "text": [
      "  - Valid pixels: 1136824\n",
      "  - Mean cumulative elevation change: -2.788 m\n",
      "  - Total cumulative volume change: -94309.828 km³\n",
      "  - Total cumulative mass change: -80163.383 Gt\n",
      "  - Processing year 2015...\n",
      "  - Rasterizing 78348 geometries...\n",
      "  - Saving TIFF...\n",
      "✅ Saved 3-band TIFF for 2015: gee_output/yearly_data/yearly_tiff_3band/glacier_changes_2015_3band.tif\n"
     ]
    },
    {
     "name": "stderr",
     "output_type": "stream",
     "text": [
      "Generating 3-band TIFFs:  76%|███████▌  | 16/21 [23:00<07:07, 85.41s/it]"
     ]
    },
    {
     "name": "stdout",
     "output_type": "stream",
     "text": [
      "  - Valid pixels: 1136824\n",
      "  - Mean cumulative elevation change: -3.067 m\n",
      "  - Total cumulative volume change: -100450.211 km³\n",
      "  - Total cumulative mass change: -85382.430 Gt\n",
      "  - Processing year 2016...\n",
      "  - Rasterizing 78348 geometries...\n",
      "  - Saving TIFF...\n",
      "✅ Saved 3-band TIFF for 2016: gee_output/yearly_data/yearly_tiff_3band/glacier_changes_2016_3band.tif\n"
     ]
    },
    {
     "name": "stderr",
     "output_type": "stream",
     "text": [
      "Generating 3-band TIFFs:  81%|████████  | 17/21 [24:25<05:40, 85.20s/it]"
     ]
    },
    {
     "name": "stdout",
     "output_type": "stream",
     "text": [
      "  - Valid pixels: 1136824\n",
      "  - Mean cumulative elevation change: -3.402 m\n",
      "  - Total cumulative volume change: -110999.633 km³\n",
      "  - Total cumulative mass change: -94349.547 Gt\n",
      "  - Processing year 2017...\n",
      "  - Rasterizing 78348 geometries...\n",
      "  - Saving TIFF...\n",
      "✅ Saved 3-band TIFF for 2017: gee_output/yearly_data/yearly_tiff_3band/glacier_changes_2017_3band.tif\n"
     ]
    },
    {
     "name": "stderr",
     "output_type": "stream",
     "text": [
      "Generating 3-band TIFFs:  86%|████████▌ | 18/21 [25:50<04:16, 85.34s/it]"
     ]
    },
    {
     "name": "stdout",
     "output_type": "stream",
     "text": [
      "  - Valid pixels: 1136824\n",
      "  - Mean cumulative elevation change: -3.739 m\n",
      "  - Total cumulative volume change: -126677.031 km³\n",
      "  - Total cumulative mass change: -107675.414 Gt\n",
      "  - Processing year 2018...\n",
      "  - Rasterizing 78348 geometries...\n",
      "  - Saving TIFF...\n",
      "✅ Saved 3-band TIFF for 2018: gee_output/yearly_data/yearly_tiff_3band/glacier_changes_2018_3band.tif\n"
     ]
    },
    {
     "name": "stderr",
     "output_type": "stream",
     "text": [
      "Generating 3-band TIFFs:  90%|█████████ | 19/21 [27:16<02:50, 85.36s/it]"
     ]
    },
    {
     "name": "stdout",
     "output_type": "stream",
     "text": [
      "  - Valid pixels: 1136824\n",
      "  - Mean cumulative elevation change: -4.071 m\n",
      "  - Total cumulative volume change: -141375.656 km³\n",
      "  - Total cumulative mass change: -120169.477 Gt\n",
      "  - Processing year 2019...\n",
      "  - Rasterizing 78348 geometries...\n",
      "  - Saving TIFF...\n",
      "✅ Saved 3-band TIFF for 2019: gee_output/yearly_data/yearly_tiff_3band/glacier_changes_2019_3band.tif\n"
     ]
    },
    {
     "name": "stderr",
     "output_type": "stream",
     "text": [
      "Generating 3-band TIFFs:  95%|█████████▌| 20/21 [28:42<01:25, 85.70s/it]"
     ]
    },
    {
     "name": "stdout",
     "output_type": "stream",
     "text": [
      "  - Valid pixels: 1136824\n",
      "  - Mean cumulative elevation change: -4.411 m\n",
      "  - Total cumulative volume change: -152903.422 km³\n",
      "  - Total cumulative mass change: -129967.992 Gt\n",
      "  - Processing year 2020...\n",
      "  - Rasterizing 78348 geometries...\n",
      "  - Saving TIFF...\n",
      "✅ Saved 3-band TIFF for 2020: gee_output/yearly_data/yearly_tiff_3band/glacier_changes_2020_3band.tif\n"
     ]
    },
    {
     "name": "stderr",
     "output_type": "stream",
     "text": [
      "Generating 3-band TIFFs: 100%|██████████| 21/21 [30:08<00:00, 86.13s/it]"
     ]
    },
    {
     "name": "stdout",
     "output_type": "stream",
     "text": [
      "  - Valid pixels: 1136824\n",
      "  - Mean cumulative elevation change: -4.699 m\n",
      "  - Total cumulative volume change: -169641.875 km³\n",
      "  - Total cumulative mass change: -144195.656 Gt\n",
      "\n",
      "=== All 3-band TIFFs generated ===\n",
      "Output directory: gee_output/yearly_data/yearly_tiff_3band\n"
     ]
    },
    {
     "name": "stderr",
     "output_type": "stream",
     "text": [
      "\n"
     ]
    }
   ],
   "source": [
    "import os\n",
    "import geopandas as gpd\n",
    "import numpy as np\n",
    "import pandas as pd\n",
    "from tqdm import tqdm\n",
    "import rasterio\n",
    "from rasterio.transform import from_bounds\n",
    "from rasterio.features import rasterize\n",
    "import gc\n",
    "\n",
    "def create_multiband_tiff_optimized(geojson_dir, study_area_shp, tiff_dir):\n",
    "    \"\"\"Optimized multi-band TIFF generation with cumulative changes\"\"\"\n",
    "    # Create output directory\n",
    "    os.makedirs(tiff_dir, exist_ok=True)\n",
    "    \n",
    "    # Load study area bounds\n",
    "    print(\"Loading study area bounds...\")\n",
    "    study_area_gdf = gpd.read_file(study_area_shp)\n",
    "    study_area_gdf = study_area_gdf.to_crs(epsg=4326)\n",
    "    bounds = study_area_gdf.total_bounds\n",
    "    minx, miny, maxx, maxy = bounds\n",
    "    print(f\"Study area bounds: {bounds}\")\n",
    "    \n",
    "    # Set resolution (moderate resolution for faster processing)\n",
    "    resolution_degrees = 0.001  # ~100 meters\n",
    "    width = int((maxx - minx) / resolution_degrees)\n",
    "    height = int((maxy - miny) / resolution_degrees)\n",
    "    \n",
    "    # Auto-adjust if grid size too large\n",
    "    if width > 10000 or height > 10000:\n",
    "        print(f\"Original raster size too large ({width} x {height}), adjusting resolution...\")\n",
    "        resolution_degrees = max((maxx - minx) / 10000, (maxy - miny) / 10000)\n",
    "        width = int((maxx - minx) / resolution_degrees)\n",
    "        height = int((maxy - miny) / resolution_degrees)\n",
    "    \n",
    "    print(f\"Raster settings: resolution={resolution_degrees:.6f} degrees, width={width}, height={height}\")\n",
    "    \n",
    "    # Build transform matrix\n",
    "    transform = from_bounds(minx, miny, maxx, maxy, width, height)\n",
    "    \n",
    "    # Process each GeoJSON\n",
    "    geojson_files = [f for f in os.listdir(geojson_dir) if f.endswith('.geojson')]\n",
    "    geojson_files.sort()\n",
    "    \n",
    "    for geojson_file in tqdm(geojson_files, desc=\"Generating 3-band TIFFs\"):\n",
    "        year = geojson_file.split('_')[-1].replace('.geojson', '')\n",
    "        geojson_path = os.path.join(geojson_dir, geojson_file)\n",
    "        tiff_path = os.path.join(tiff_dir, f'glacier_changes_{year}_3band.tif')\n",
    "        \n",
    "        try:\n",
    "            print(f\"  - Processing year {year}...\")\n",
    "            gdf = gpd.read_file(geojson_path)\n",
    "            \n",
    "            if gdf.crs is None or gdf.crs.to_epsg() != 4326:\n",
    "                gdf = gdf.to_crs(epsg=4326)\n",
    "            \n",
    "            # Prepare data for rasterization - using cumulative changes\n",
    "            shapes_dh_cumulative = []\n",
    "            shapes_dV_cumulative = []\n",
    "            shapes_dM_cumulative = []\n",
    "            \n",
    "            for idx, row in gdf.iterrows():\n",
    "                if row['geometry'] is not None:\n",
    "                    # Use cumulative elevation change\n",
    "                    if not pd.isna(row['dh_cumulative']):\n",
    "                        shapes_dh_cumulative.append((row['geometry'], float(row['dh_cumulative'])))\n",
    "                    \n",
    "                    # Use cumulative volume change\n",
    "                    if not pd.isna(row['dV']):\n",
    "                        shapes_dV_cumulative.append((row['geometry'], float(row['dV'] / 1e9)))  # km³\n",
    "                    \n",
    "                    # Use cumulative mass change\n",
    "                    if not pd.isna(row['dM']):\n",
    "                        shapes_dM_cumulative.append((row['geometry'], float(row['dM'])))\n",
    "            \n",
    "            # Rasterize all bands\n",
    "            print(f\"  - Rasterizing {len(shapes_dh_cumulative)} geometries...\")\n",
    "            dh_cumulative_raster = rasterize(\n",
    "                shapes_dh_cumulative,\n",
    "                out_shape=(height, width),\n",
    "                transform=transform,\n",
    "                fill=np.nan,\n",
    "                all_touched=True,\n",
    "                dtype=np.float32\n",
    "            )\n",
    "            \n",
    "            dV_cumulative_raster = rasterize(\n",
    "                shapes_dV_cumulative,\n",
    "                out_shape=(height, width),\n",
    "                transform=transform,\n",
    "                fill=np.nan,\n",
    "                all_touched=True,\n",
    "                dtype=np.float32\n",
    "            )\n",
    "            \n",
    "            dM_cumulative_raster = rasterize(\n",
    "                shapes_dM_cumulative,\n",
    "                out_shape=(height, width),\n",
    "                transform=transform,\n",
    "                fill=np.nan,\n",
    "                all_touched=True,\n",
    "                dtype=np.float32\n",
    "            )\n",
    "            \n",
    "            # Save as multiband TIFF\n",
    "            print(f\"  - Saving TIFF...\")\n",
    "            with rasterio.open(\n",
    "                tiff_path,\n",
    "                'w',\n",
    "                driver='GTiff',\n",
    "                height=height,\n",
    "                width=width,\n",
    "                count=3,\n",
    "                dtype=rasterio.float32,\n",
    "                crs='EPSG:4326',\n",
    "                transform=transform,\n",
    "                nodata=np.nan,\n",
    "                compress='lzw'\n",
    "            ) as dst:\n",
    "                dst.write(dh_cumulative_raster, 1)\n",
    "                dst.write(dV_cumulative_raster, 2)\n",
    "                dst.write(dM_cumulative_raster, 3)\n",
    "                \n",
    "                # Set band descriptions\n",
    "                dst.set_band_description(1, 'cumulative_elevation_change_m')\n",
    "                dst.set_band_description(2, 'cumulative_volume_change_km3')\n",
    "                dst.set_band_description(3, 'cumulative_mass_change_Gt')\n",
    "                \n",
    "                # Add metadata\n",
    "                dst.update_tags(\n",
    "                    year=year,\n",
    "                    description=f\"Cumulative glacier changes by year {year}\",\n",
    "                    band1_units=\"meters\",\n",
    "                    band2_units=\"cubic kilometers\",\n",
    "                    band3_units=\"gigatonnes\",\n",
    "                    coordinate_system=\"WGS84\",\n",
    "                    epsg_code=\"4326\"\n",
    "                )\n",
    "            \n",
    "            print(f\"✅ Saved 3-band TIFF for {year}: {tiff_path}\")\n",
    "            \n",
    "            # Summary stats\n",
    "            valid_pixels_dh = np.count_nonzero(~np.isnan(dh_cumulative_raster))\n",
    "            mean_dh_cumulative = np.nanmean(dh_cumulative_raster)\n",
    "            total_mass_change_cumulative = np.nansum(dM_cumulative_raster)\n",
    "            total_volume_change_cumulative = np.nansum(dV_cumulative_raster)\n",
    "            \n",
    "            print(f\"  - Valid pixels: {valid_pixels_dh}\")\n",
    "            print(f\"  - Mean cumulative elevation change: {mean_dh_cumulative:.3f} m\")\n",
    "            print(f\"  - Total cumulative volume change: {total_volume_change_cumulative:.3f} km³\")\n",
    "            print(f\"  - Total cumulative mass change: {total_mass_change_cumulative:.3f} Gt\")\n",
    "            \n",
    "            # Memory cleanup\n",
    "            del gdf, dh_cumulative_raster, dV_cumulative_raster, dM_cumulative_raster\n",
    "            del shapes_dh_cumulative, shapes_dV_cumulative, shapes_dM_cumulative\n",
    "            gc.collect()\n",
    "            \n",
    "        except Exception as e:\n",
    "            print(f\"❌ Error processing year {year}: {e}\")\n",
    "            import traceback\n",
    "            traceback.print_exc()\n",
    "    \n",
    "    print(f\"\\n=== All 3-band TIFFs generated ===\")\n",
    "    print(f\"Output directory: {tiff_dir}\")\n",
    "\n",
    "if __name__ == \"__main__\":\n",
    "    # Config\n",
    "    GEOJSON_DIR = \"gee_output/yearly_data/yearly_geojson_volume_mass\"\n",
    "    STUDY_AREA_SHP = \"influ_area/influ_in_TB/influ_in_TB.shp\"\n",
    "    TIFF_DIR = \"gee_output/yearly_data/yearly_tiff_3band\"\n",
    "    \n",
    "    # Run conversion\n",
    "    create_multiband_tiff_optimized(GEOJSON_DIR, STUDY_AREA_SHP, TIFF_DIR)"
   ]
  },
  {
   "cell_type": "code",
   "execution_count": null,
   "id": "7345dbfd-4328-4fd5-818a-d5ba4524556a",
   "metadata": {},
   "outputs": [],
   "source": []
  }
 ],
 "metadata": {
  "kernelspec": {
   "display_name": "Python (base)",
   "language": "python",
   "name": "base"
  },
  "language_info": {
   "codemirror_mode": {
    "name": "ipython",
    "version": 3
   },
   "file_extension": ".py",
   "mimetype": "text/x-python",
   "name": "python",
   "nbconvert_exporter": "python",
   "pygments_lexer": "ipython3",
   "version": "3.11.9"
  }
 },
 "nbformat": 4,
 "nbformat_minor": 5
}
